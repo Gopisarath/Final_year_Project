{
 "cells": [
  {
   "cell_type": "code",
   "execution_count": 1,
   "metadata": {},
   "outputs": [],
   "source": [
    "import warnings\n",
    "warnings.filterwarnings('ignore')"
   ]
  },
  {
   "cell_type": "code",
   "execution_count": 2,
   "metadata": {},
   "outputs": [],
   "source": [
    "import numpy as np\n",
    "import pandas as pd\n",
    "\n",
    "import matplotlib.pyplot as plt\n",
    "import seaborn as sns"
   ]
  },
  {
   "cell_type": "code",
   "execution_count": 3,
   "metadata": {},
   "outputs": [],
   "source": [
    "from sklearn.model_selection import train_test_split"
   ]
  },
  {
   "cell_type": "code",
   "execution_count": 4,
   "metadata": {},
   "outputs": [],
   "source": [
    "# load data\n",
    "data  = pd.read_csv('dementia_dataset.csv')"
   ]
  },
  {
   "cell_type": "code",
   "execution_count": 5,
   "metadata": {},
   "outputs": [
    {
     "data": {
      "text/html": [
       "<div>\n",
       "<style scoped>\n",
       "    .dataframe tbody tr th:only-of-type {\n",
       "        vertical-align: middle;\n",
       "    }\n",
       "\n",
       "    .dataframe tbody tr th {\n",
       "        vertical-align: top;\n",
       "    }\n",
       "\n",
       "    .dataframe thead th {\n",
       "        text-align: right;\n",
       "    }\n",
       "</style>\n",
       "<table border=\"1\" class=\"dataframe\">\n",
       "  <thead>\n",
       "    <tr style=\"text-align: right;\">\n",
       "      <th></th>\n",
       "      <th>Subject ID</th>\n",
       "      <th>MRI ID</th>\n",
       "      <th>Group</th>\n",
       "      <th>Visit</th>\n",
       "      <th>MR Delay</th>\n",
       "      <th>M/F</th>\n",
       "      <th>Hand</th>\n",
       "      <th>Age</th>\n",
       "      <th>EDUC</th>\n",
       "      <th>SES</th>\n",
       "      <th>MMSE</th>\n",
       "      <th>CDR</th>\n",
       "      <th>eTIV</th>\n",
       "      <th>nWBV</th>\n",
       "      <th>ASF</th>\n",
       "    </tr>\n",
       "  </thead>\n",
       "  <tbody>\n",
       "    <tr>\n",
       "      <th>0</th>\n",
       "      <td>OAS2_0001</td>\n",
       "      <td>OAS2_0001_MR1</td>\n",
       "      <td>Nondemented</td>\n",
       "      <td>1</td>\n",
       "      <td>0</td>\n",
       "      <td>M</td>\n",
       "      <td>R</td>\n",
       "      <td>87</td>\n",
       "      <td>14</td>\n",
       "      <td>2.0</td>\n",
       "      <td>27.0</td>\n",
       "      <td>0.0</td>\n",
       "      <td>1987</td>\n",
       "      <td>0.696</td>\n",
       "      <td>0.883</td>\n",
       "    </tr>\n",
       "    <tr>\n",
       "      <th>1</th>\n",
       "      <td>OAS2_0001</td>\n",
       "      <td>OAS2_0001_MR2</td>\n",
       "      <td>Nondemented</td>\n",
       "      <td>2</td>\n",
       "      <td>457</td>\n",
       "      <td>M</td>\n",
       "      <td>R</td>\n",
       "      <td>88</td>\n",
       "      <td>14</td>\n",
       "      <td>2.0</td>\n",
       "      <td>30.0</td>\n",
       "      <td>0.0</td>\n",
       "      <td>2004</td>\n",
       "      <td>0.681</td>\n",
       "      <td>0.876</td>\n",
       "    </tr>\n",
       "    <tr>\n",
       "      <th>2</th>\n",
       "      <td>OAS2_0002</td>\n",
       "      <td>OAS2_0002_MR1</td>\n",
       "      <td>Demented</td>\n",
       "      <td>1</td>\n",
       "      <td>0</td>\n",
       "      <td>M</td>\n",
       "      <td>R</td>\n",
       "      <td>75</td>\n",
       "      <td>12</td>\n",
       "      <td>NaN</td>\n",
       "      <td>23.0</td>\n",
       "      <td>0.5</td>\n",
       "      <td>1678</td>\n",
       "      <td>0.736</td>\n",
       "      <td>1.046</td>\n",
       "    </tr>\n",
       "    <tr>\n",
       "      <th>3</th>\n",
       "      <td>OAS2_0002</td>\n",
       "      <td>OAS2_0002_MR2</td>\n",
       "      <td>Demented</td>\n",
       "      <td>2</td>\n",
       "      <td>560</td>\n",
       "      <td>M</td>\n",
       "      <td>R</td>\n",
       "      <td>76</td>\n",
       "      <td>12</td>\n",
       "      <td>NaN</td>\n",
       "      <td>28.0</td>\n",
       "      <td>0.5</td>\n",
       "      <td>1738</td>\n",
       "      <td>0.713</td>\n",
       "      <td>1.010</td>\n",
       "    </tr>\n",
       "    <tr>\n",
       "      <th>4</th>\n",
       "      <td>OAS2_0002</td>\n",
       "      <td>OAS2_0002_MR3</td>\n",
       "      <td>Demented</td>\n",
       "      <td>3</td>\n",
       "      <td>1895</td>\n",
       "      <td>M</td>\n",
       "      <td>R</td>\n",
       "      <td>80</td>\n",
       "      <td>12</td>\n",
       "      <td>NaN</td>\n",
       "      <td>22.0</td>\n",
       "      <td>0.5</td>\n",
       "      <td>1698</td>\n",
       "      <td>0.701</td>\n",
       "      <td>1.034</td>\n",
       "    </tr>\n",
       "  </tbody>\n",
       "</table>\n",
       "</div>"
      ],
      "text/plain": [
       "  Subject ID         MRI ID        Group  Visit  MR Delay M/F Hand  Age  EDUC  \\\n",
       "0  OAS2_0001  OAS2_0001_MR1  Nondemented      1         0   M    R   87    14   \n",
       "1  OAS2_0001  OAS2_0001_MR2  Nondemented      2       457   M    R   88    14   \n",
       "2  OAS2_0002  OAS2_0002_MR1     Demented      1         0   M    R   75    12   \n",
       "3  OAS2_0002  OAS2_0002_MR2     Demented      2       560   M    R   76    12   \n",
       "4  OAS2_0002  OAS2_0002_MR3     Demented      3      1895   M    R   80    12   \n",
       "\n",
       "   SES  MMSE  CDR  eTIV   nWBV    ASF  \n",
       "0  2.0  27.0  0.0  1987  0.696  0.883  \n",
       "1  2.0  30.0  0.0  2004  0.681  0.876  \n",
       "2  NaN  23.0  0.5  1678  0.736  1.046  \n",
       "3  NaN  28.0  0.5  1738  0.713  1.010  \n",
       "4  NaN  22.0  0.5  1698  0.701  1.034  "
      ]
     },
     "execution_count": 5,
     "metadata": {},
     "output_type": "execute_result"
    }
   ],
   "source": [
    "data.head()"
   ]
  },
  {
   "cell_type": "code",
   "execution_count": 6,
   "metadata": {},
   "outputs": [],
   "source": [
    "del data['Subject ID']"
   ]
  },
  {
   "cell_type": "code",
   "execution_count": 7,
   "metadata": {},
   "outputs": [],
   "source": [
    "del data['MRI ID']"
   ]
  },
  {
   "cell_type": "code",
   "execution_count": 8,
   "metadata": {},
   "outputs": [],
   "source": [
    "data = data.dropna()"
   ]
  },
  {
   "cell_type": "code",
   "execution_count": 9,
   "metadata": {},
   "outputs": [
    {
     "data": {
      "text/html": [
       "<div>\n",
       "<style scoped>\n",
       "    .dataframe tbody tr th:only-of-type {\n",
       "        vertical-align: middle;\n",
       "    }\n",
       "\n",
       "    .dataframe tbody tr th {\n",
       "        vertical-align: top;\n",
       "    }\n",
       "\n",
       "    .dataframe thead th {\n",
       "        text-align: right;\n",
       "    }\n",
       "</style>\n",
       "<table border=\"1\" class=\"dataframe\">\n",
       "  <thead>\n",
       "    <tr style=\"text-align: right;\">\n",
       "      <th></th>\n",
       "      <th>Group</th>\n",
       "      <th>Visit</th>\n",
       "      <th>MR Delay</th>\n",
       "      <th>M/F</th>\n",
       "      <th>Hand</th>\n",
       "      <th>Age</th>\n",
       "      <th>EDUC</th>\n",
       "      <th>SES</th>\n",
       "      <th>MMSE</th>\n",
       "      <th>CDR</th>\n",
       "      <th>eTIV</th>\n",
       "      <th>nWBV</th>\n",
       "      <th>ASF</th>\n",
       "    </tr>\n",
       "  </thead>\n",
       "  <tbody>\n",
       "    <tr>\n",
       "      <th>0</th>\n",
       "      <td>Nondemented</td>\n",
       "      <td>1</td>\n",
       "      <td>0</td>\n",
       "      <td>M</td>\n",
       "      <td>R</td>\n",
       "      <td>87</td>\n",
       "      <td>14</td>\n",
       "      <td>2.0</td>\n",
       "      <td>27.0</td>\n",
       "      <td>0.0</td>\n",
       "      <td>1987</td>\n",
       "      <td>0.696</td>\n",
       "      <td>0.883</td>\n",
       "    </tr>\n",
       "    <tr>\n",
       "      <th>1</th>\n",
       "      <td>Nondemented</td>\n",
       "      <td>2</td>\n",
       "      <td>457</td>\n",
       "      <td>M</td>\n",
       "      <td>R</td>\n",
       "      <td>88</td>\n",
       "      <td>14</td>\n",
       "      <td>2.0</td>\n",
       "      <td>30.0</td>\n",
       "      <td>0.0</td>\n",
       "      <td>2004</td>\n",
       "      <td>0.681</td>\n",
       "      <td>0.876</td>\n",
       "    </tr>\n",
       "    <tr>\n",
       "      <th>5</th>\n",
       "      <td>Nondemented</td>\n",
       "      <td>1</td>\n",
       "      <td>0</td>\n",
       "      <td>F</td>\n",
       "      <td>R</td>\n",
       "      <td>88</td>\n",
       "      <td>18</td>\n",
       "      <td>3.0</td>\n",
       "      <td>28.0</td>\n",
       "      <td>0.0</td>\n",
       "      <td>1215</td>\n",
       "      <td>0.710</td>\n",
       "      <td>1.444</td>\n",
       "    </tr>\n",
       "    <tr>\n",
       "      <th>6</th>\n",
       "      <td>Nondemented</td>\n",
       "      <td>2</td>\n",
       "      <td>538</td>\n",
       "      <td>F</td>\n",
       "      <td>R</td>\n",
       "      <td>90</td>\n",
       "      <td>18</td>\n",
       "      <td>3.0</td>\n",
       "      <td>27.0</td>\n",
       "      <td>0.0</td>\n",
       "      <td>1200</td>\n",
       "      <td>0.718</td>\n",
       "      <td>1.462</td>\n",
       "    </tr>\n",
       "    <tr>\n",
       "      <th>7</th>\n",
       "      <td>Nondemented</td>\n",
       "      <td>1</td>\n",
       "      <td>0</td>\n",
       "      <td>M</td>\n",
       "      <td>R</td>\n",
       "      <td>80</td>\n",
       "      <td>12</td>\n",
       "      <td>4.0</td>\n",
       "      <td>28.0</td>\n",
       "      <td>0.0</td>\n",
       "      <td>1689</td>\n",
       "      <td>0.712</td>\n",
       "      <td>1.039</td>\n",
       "    </tr>\n",
       "  </tbody>\n",
       "</table>\n",
       "</div>"
      ],
      "text/plain": [
       "         Group  Visit  MR Delay M/F Hand  Age  EDUC  SES  MMSE  CDR  eTIV  \\\n",
       "0  Nondemented      1         0   M    R   87    14  2.0  27.0  0.0  1987   \n",
       "1  Nondemented      2       457   M    R   88    14  2.0  30.0  0.0  2004   \n",
       "5  Nondemented      1         0   F    R   88    18  3.0  28.0  0.0  1215   \n",
       "6  Nondemented      2       538   F    R   90    18  3.0  27.0  0.0  1200   \n",
       "7  Nondemented      1         0   M    R   80    12  4.0  28.0  0.0  1689   \n",
       "\n",
       "    nWBV    ASF  \n",
       "0  0.696  0.883  \n",
       "1  0.681  0.876  \n",
       "5  0.710  1.444  \n",
       "6  0.718  1.462  \n",
       "7  0.712  1.039  "
      ]
     },
     "execution_count": 9,
     "metadata": {},
     "output_type": "execute_result"
    }
   ],
   "source": [
    "data.head()"
   ]
  },
  {
   "cell_type": "code",
   "execution_count": 10,
   "metadata": {},
   "outputs": [
    {
     "data": {
      "image/png": "[encoded data removed]",
      "text/plain": [
       "<Figure size 432x288 with 1 Axes>"
      ]
     },
     "metadata": {},
     "output_type": "display_data"
    }
   ],
   "source": [
    "status = data['Group'].ravel() #extracting healthy, stress, uncertain and recovery 4 different status\n",
    "drought = data['Group'].ravel() #extracting binary drought label as 0 and 1\n",
    "labels, count = np.unique(status, return_counts=True)\n",
    "plt.pie(count, labels = labels)\n",
    "plt.title(\"Distribution of 3 different Status Graph\")\n",
    "plt.show() "
   ]
  },
  {
   "cell_type": "code",
   "execution_count": 11,
   "metadata": {},
   "outputs": [
    {
     "data": {
      "text/plain": [
       "array([2, 1, 0], dtype=int64)"
      ]
     },
     "execution_count": 11,
     "metadata": {},
     "output_type": "execute_result"
    }
   ],
   "source": [
    "# Import label encoder\n",
    "from sklearn import preprocessing\n",
    "\n",
    "# label_encoder object knows\n",
    "# how to understand word labels.\n",
    "label_encoder = preprocessing.LabelEncoder()\n",
    "\n",
    "data['Group']= label_encoder.fit_transform(data['Group'])\n",
    "data['M/F']= label_encoder.fit_transform(data['M/F'])\n",
    "data['Hand']= label_encoder.fit_transform(data['Hand'])\n",
    "\n",
    "data['Group'].unique()"
   ]
  },
  {
   "cell_type": "code",
   "execution_count": 117,
   "metadata": {},
   "outputs": [],
   "source": [
    "X = data.drop([\"Group\"],axis =1)\n",
    "y = data[\"Group\"]"
   ]
  },
  {
   "cell_type": "code",
   "execution_count": 118,
   "metadata": {},
   "outputs": [],
   "source": [
    "X_train, X_test, y_train, y_test = train_test_split(X, y, test_size=0.2)"
   ]
  },
  {
   "cell_type": "code",
   "execution_count": 14,
   "metadata": {},
   "outputs": [],
   "source": [
    "from sklearn.metrics import accuracy_score, precision_score, recall_score, f1_score"
   ]
  },
  {
   "cell_type": "code",
   "execution_count": 15,
   "metadata": {},
   "outputs": [],
   "source": [
    "ML_Model = []\n",
    "accuracy = []\n",
    "precision = []\n",
    "recall = []\n",
    "f1score = []\n",
    "\n",
    "#function to call for storing the results\n",
    "def storeResults(model, a,b,c,d):\n",
    "    ML_Model.append(model)\n",
    "    accuracy.append(round(a, 3))\n",
    "    precision.append(round(b, 3))\n",
    "    recall.append(round(c, 3))\n",
    "    f1score.append(round(d, 3))"
   ]
  },
  {
   "cell_type": "code",
   "execution_count": 16,
   "metadata": {},
   "outputs": [],
   "source": [
    "from tensorflow.keras.models import Sequential\n",
    "from tensorflow.keras.layers import Dense\n",
    "from tensorflow.keras.models import Model, load_model\n",
    "from tensorflow.keras.utils import to_categorical\n",
    "from tensorflow.keras.layers import Dropout\n",
    "from tensorflow.keras.layers import Flatten\n",
    "from tensorflow.keras.layers import Conv1D\n",
    "from tensorflow.keras.layers import MaxPooling1D"
   ]
  },
  {
   "cell_type": "markdown",
   "metadata": {},
   "source": [
    "# Random Forest"
   ]
  },
  {
   "cell_type": "code",
   "execution_count": 17,
   "metadata": {},
   "outputs": [],
   "source": [
    "from sklearn.ensemble import RandomForestClassifier\n",
    "rf = RandomForestClassifier(random_state=42)\n",
    "rf.fit(X_train, y_train)\n",
    "\n",
    "y_pred    = rf.predict(X_test)\n",
    "\n",
    "rf_acc = accuracy_score(y_pred, y_test)\n",
    "rf_prec = precision_score(y_pred, y_test,average='weighted')\n",
    "rf_rec = recall_score(y_pred, y_test,average='weighted')\n",
    "rf_f1 = f1_score(y_pred, y_test,average='weighted')"
   ]
  },
  {
   "cell_type": "code",
   "execution_count": 18,
   "metadata": {},
   "outputs": [],
   "source": [
    "storeResults('Random Forest',rf_acc,rf_prec,rf_rec,rf_f1)"
   ]
  },
  {
   "cell_type": "markdown",
   "metadata": {},
   "source": [
    "# SVM"
   ]
  },
  {
   "cell_type": "code",
   "execution_count": 19,
   "metadata": {},
   "outputs": [],
   "source": [
    "from sklearn.svm import SVC\n",
    "svm = SVC(probability=True)\n",
    "svm.fit(X_train, y_train)\n",
    "\n",
    "y_pred    = svm.predict(X_test)\n",
    "\n",
    "svm_acc = accuracy_score(y_pred, y_test)\n",
    "svm_prec = precision_score(y_pred, y_test,average='weighted')\n",
    "svm_rec = recall_score(y_pred, y_test,average='weighted')\n",
    "svm_f1 = f1_score(y_pred, y_test,average='weighted')"
   ]
  },
  {
   "cell_type": "code",
   "execution_count": 20,
   "metadata": {},
   "outputs": [],
   "source": [
    "storeResults('Support Vector Machine',svm_acc,svm_prec,svm_rec,svm_f1)"
   ]
  },
  {
   "cell_type": "markdown",
   "metadata": {},
   "source": [
    "# AdaBoost Classifier"
   ]
  },
  {
   "cell_type": "code",
   "execution_count": 21,
   "metadata": {},
   "outputs": [],
   "source": [
    "from sklearn.ensemble import AdaBoostClassifier\n",
    "ab = AdaBoostClassifier(random_state=42)\n",
    "ab.fit(X_train, y_train)\n",
    "\n",
    "y_pred    = ab.predict(X_test)\n",
    "\n",
    "ab_acc = accuracy_score(y_pred, y_test)\n",
    "ab_prec = precision_score(y_pred, y_test,average='weighted')\n",
    "ab_rec = recall_score(y_pred, y_test,average='weighted')\n",
    "ab_f1 = f1_score(y_pred, y_test,average='weighted')"
   ]
  },
  {
   "cell_type": "code",
   "execution_count": 22,
   "metadata": {},
   "outputs": [],
   "source": [
    "storeResults('AdaBoost Classifier',ab_acc,ab_prec,ab_rec,ab_f1)"
   ]
  },
  {
   "cell_type": "markdown",
   "metadata": {},
   "source": [
    "# MLP - ANN"
   ]
  },
  {
   "cell_type": "code",
   "execution_count": 23,
   "metadata": {},
   "outputs": [],
   "source": [
    "from sklearn.neural_network import MLPClassifier\n",
    "mlp = MLPClassifier()\n",
    "mlp.fit(X_train, y_train)\n",
    "\n",
    "y_pred    = mlp.predict(X_test)\n",
    "\n",
    "mlp_acc = accuracy_score(y_pred, y_test)\n",
    "mlp_prec = precision_score(y_pred, y_test,average='weighted')\n",
    "mlp_rec = recall_score(y_pred, y_test,average='weighted')\n",
    "mlp_f1 = f1_score(y_pred, y_test,average='weighted')"
   ]
  },
  {
   "cell_type": "code",
   "execution_count": 24,
   "metadata": {},
   "outputs": [],
   "source": [
    "storeResults('MLP-ANN',mlp_acc,mlp_prec,mlp_rec,mlp_f1)"
   ]
  },
  {
   "cell_type": "markdown",
   "metadata": {},
   "source": [
    "# XGBoost"
   ]
  },
  {
   "cell_type": "code",
   "execution_count": 25,
   "metadata": {},
   "outputs": [],
   "source": [
    "from xgboost import XGBClassifier\n",
    "xgb = XGBClassifier(random_state=0)\n",
    "\n",
    "xgb.fit(X_train, y_train)\n",
    "\n",
    "y_pred    = xgb.predict(X_test)\n",
    "\n",
    "xgb_acc = accuracy_score(y_pred, y_test)\n",
    "xgb_prec = precision_score(y_pred, y_test,average='weighted')\n",
    "xgb_rec = recall_score(y_pred, y_test,average='weighted')\n",
    "xgb_f1 = f1_score(y_pred, y_test,average='weighted')"
   ]
  },
  {
   "cell_type": "code",
   "execution_count": 26,
   "metadata": {},
   "outputs": [],
   "source": [
    "storeResults('XGBoost',xgb_acc,xgb_prec,xgb_rec,xgb_f1)"
   ]
  },
  {
   "cell_type": "markdown",
   "metadata": {},
   "source": [
    "# Voting Classifier"
   ]
  },
  {
   "cell_type": "code",
   "execution_count": 119,
   "metadata": {},
   "outputs": [],
   "source": [
    "from sklearn.ensemble import RandomForestClassifier, VotingClassifier\n",
    "from sklearn.tree import DecisionTreeClassifier\n",
    "clf1 = DecisionTreeClassifier()\n",
    "clf2 = RandomForestClassifier(n_estimators=50, random_state=1)\n",
    "\n",
    "eclf1 = VotingClassifier(estimators=[('dt', clf1), ('rf', clf2)], voting='soft')\n",
    "eclf1.fit(X_train, y_train)\n",
    "y_pred = eclf1.predict(X_test)\n",
    "\n",
    "vot_acc = accuracy_score(y_pred, y_test)\n",
    "vot_prec = precision_score(y_pred, y_test,average='weighted')\n",
    "vot_rec = recall_score(y_pred, y_test,average='weighted')\n",
    "vot_f1 = f1_score(y_pred, y_test,average='weighted')"
   ]
  },
  {
   "cell_type": "code",
   "execution_count": 121,
   "metadata": {},
   "outputs": [],
   "source": [
    "storeResults('Voting Classifier',vot_acc,vot_prec,vot_rec,vot_f1)"
   ]
  },
  {
   "cell_type": "markdown",
   "metadata": {},
   "source": [
    "# Stacking Classifier"
   ]
  },
  {
   "cell_type": "code",
   "execution_count": 122,
   "metadata": {},
   "outputs": [],
   "source": [
    "from sklearn.ensemble import RandomForestClassifier\n",
    "from sklearn.neural_network import MLPClassifier\n",
    "from lightgbm import LGBMClassifier\n",
    "from sklearn.ensemble import StackingClassifier\n",
    "\n",
    "estimators = [('rf', RandomForestClassifier(n_estimators=100)),('mlp', MLPClassifier(random_state=1, max_iter=300))]\n",
    "\n",
    "clf = StackingClassifier(estimators=estimators, final_estimator=LGBMClassifier(n_estimators=100))\n",
    "\n",
    "\n",
    "clf.fit(X_train,y_train)\n",
    "\n",
    "y_pred = clf.predict(X_test)\n",
    "\n",
    "stac_acc = accuracy_score(y_pred, y_test)\n",
    "stac_prec = precision_score(y_pred, y_test,average='weighted')\n",
    "stac_rec = recall_score(y_pred, y_test,average='weighted')\n",
    "stac_f1 = f1_score(y_pred, y_test,average='weighted')"
   ]
  },
  {
   "cell_type": "code",
   "execution_count": 123,
   "metadata": {},
   "outputs": [],
   "source": [
    "storeResults('Stacking Classifier',stac_acc,stac_prec,stac_rec,stac_f1)"
   ]
  },
  {
   "cell_type": "markdown",
   "metadata": {},
   "source": [
    "# CNN + LSTM"
   ]
  },
  {
   "cell_type": "code",
   "execution_count": 29,
   "metadata": {},
   "outputs": [],
   "source": [
    "X_train=X_train.values\n",
    "X_test=X_test.values\n",
    "\n",
    "X_train = X_train.reshape(-1, X_train.shape[1],1)\n",
    "X_test = X_test.reshape(-1, X_test.shape[1],1)\n",
    "\n",
    "Y_train=to_categorical(y_train)\n",
    "Y_test=to_categorical(y_test)"
   ]
  },
  {
   "cell_type": "code",
   "execution_count": 30,
   "metadata": {},
   "outputs": [],
   "source": [
    "verbose, epoch, batch_size = 1, 10, 512\n",
    "activationFunction='relu'"
   ]
  },
  {
   "cell_type": "code",
   "execution_count": 31,
   "metadata": {},
   "outputs": [
    {
     "name": "stdout",
     "output_type": "stream",
     "text": [
      "Model: \"sequential\"\n",
      "_________________________________________________________________\n",
      "Layer (type)                 Output Shape              Param #   \n",
      "=================================================================\n",
      "conv1d (Conv1D)              (None, 12, 64)            384       \n",
      "_________________________________________________________________\n",
      "max_pooling1d (MaxPooling1D) (None, 11, 64)            0         \n",
      "_________________________________________________________________\n",
      "conv1d_1 (Conv1D)            (None, 11, 32)            6176      \n",
      "_________________________________________________________________\n",
      "max_pooling1d_1 (MaxPooling1 (None, 10, 32)            0         \n",
      "_________________________________________________________________\n",
      "lstm (LSTM)                  (None, 10, 128)           82432     \n",
      "_________________________________________________________________\n",
      "flatten (Flatten)            (None, 1280)              0         \n",
      "_________________________________________________________________\n",
      "dense (Dense)                (None, 128)               163968    \n",
      "_________________________________________________________________\n",
      "dropout (Dropout)            (None, 128)               0         \n",
      "_________________________________________________________________\n",
      "dense_1 (Dense)              (None, 32)                4128      \n",
      "_________________________________________________________________\n",
      "dropout_1 (Dropout)          (None, 32)                0         \n",
      "_________________________________________________________________\n",
      "dense_2 (Dense)              (None, 3)                 99        \n",
      "=================================================================\n",
      "Total params: 257,187\n",
      "Trainable params: 257,187\n",
      "Non-trainable params: 0\n",
      "_________________________________________________________________\n"
     ]
    }
   ],
   "source": [
    "import tensorflow as tf\n",
    "tf.keras.backend.clear_session()\n",
    "\n",
    "model_en = tf.keras.models.Sequential([tf.keras.layers.Conv1D(filters=64,kernel_size=5,strides=1,padding=\"causal\",activation=\"relu\",input_shape=(X_train.shape[1],X_train.shape[2])),\n",
    "    tf.keras.layers.MaxPooling1D(pool_size=2, strides=1, padding=\"valid\"),\n",
    "    tf.keras.layers.Conv1D(filters=32, kernel_size=3, strides=1, padding=\"causal\", activation=\"relu\"),\n",
    "    tf.keras.layers.MaxPooling1D(pool_size=2, strides=1, padding=\"valid\"),\n",
    "    tf.keras.layers.LSTM(128, return_sequences=True),\n",
    "    tf.keras.layers.Flatten(),\n",
    "    tf.keras.layers.Dense(128, activation=\"relu\"),\n",
    "    tf.keras.layers.Dropout(0.2),\n",
    "    tf.keras.layers.Dense(32, activation=\"relu\"),\n",
    "    tf.keras.layers.Dropout(0.1),\n",
    "    tf.keras.layers.Dense(3)\n",
    "])\n",
    "\n",
    "lr_schedule = tf.keras.optimizers.schedules.ExponentialDecay(5e-4,\n",
    "                                                             decay_steps=1000000,\n",
    "                                                             decay_rate=0.98,\n",
    "                                                             staircase=False)\n",
    "\n",
    "model_en.compile(loss=tf.keras.losses.MeanSquaredError(),\n",
    "              optimizer=tf.keras.optimizers.SGD(learning_rate=lr_schedule, momentum=0.8),\n",
    "              metrics=['acc'])\n",
    "model_en.summary()"
   ]
  },
  {
   "cell_type": "code",
   "execution_count": 33,
   "metadata": {},
   "outputs": [
    {
     "name": "stdout",
     "output_type": "stream",
     "text": [
      "Epoch 1/5\n",
      "113/113 [==============================] - 1s 4ms/step - loss: 0.2477 - acc: 0.4912 - val_loss: 0.1957 - val_acc: 0.5439\n",
      "Epoch 2/5\n",
      "113/113 [==============================] - 0s 4ms/step - loss: 0.2231 - acc: 0.5088 - val_loss: 0.1868 - val_acc: 0.5439\n",
      "Epoch 3/5\n",
      "113/113 [==============================] - 0s 4ms/step - loss: 0.2113 - acc: 0.5000 - val_loss: 0.1891 - val_acc: 0.5439\n",
      "Epoch 4/5\n",
      "113/113 [==============================] - 0s 4ms/step - loss: 0.2048 - acc: 0.5000 - val_loss: 0.1962 - val_acc: 0.5439\n",
      "Epoch 5/5\n",
      "113/113 [==============================] - 0s 4ms/step - loss: 0.1956 - acc: 0.5177 - val_loss: 0.1856 - val_acc: 0.6316\n"
     ]
    }
   ],
   "source": [
    "modelhistory = model_en.fit(X_train, Y_train, epochs=5, verbose=verbose, validation_split=0.2, batch_size = 2)"
   ]
  },
  {
   "cell_type": "code",
   "execution_count": 34,
   "metadata": {},
   "outputs": [
    {
     "data": {
      "image/png": "[encoded data removed]",
      "text/plain": [
       "<Figure size 432x288 with 1 Axes>"
      ]
     },
     "metadata": {
      "needs_background": "light"
     },
     "output_type": "display_data"
    },
    {
     "data": {
      "image/png": "[encoded data removed]",
      "text/plain": [
       "<Figure size 432x288 with 1 Axes>"
      ]
     },
     "metadata": {
      "needs_background": "light"
     },
     "output_type": "display_data"
    }
   ],
   "source": [
    "# Plot of accuracy vs epoch for train and test dataset\n",
    "plt.plot(modelhistory.history['acc'])\n",
    "plt.plot(modelhistory.history['val_acc'])\n",
    "plt.title(\"Plot of accuracy vs epoch for train and test dataset\")\n",
    "plt.ylabel('accuracy')\n",
    "plt.xlabel('epoch')\n",
    "plt.show()\n",
    "\n",
    "# Plot of loss vs epoch for train and test dataset\n",
    "plt.plot(modelhistory.history['loss'])\n",
    "plt.plot(modelhistory.history['val_loss'])\n",
    "plt.title(\"Plot of loss vs epoch for train and test dataset\")\n",
    "plt.ylabel('loss')\n",
    "plt.xlabel('epoch')\n",
    "plt.legend(['train', 'test'], loc='upper right')\n",
    "plt.show()"
   ]
  },
  {
   "cell_type": "code",
   "execution_count": 35,
   "metadata": {},
   "outputs": [
    {
     "name": "stdout",
     "output_type": "stream",
     "text": [
      "3/3 [==============================] - 0s 2ms/step\n"
     ]
    }
   ],
   "source": [
    "y_pred = model_en.predict(X_test, verbose=1)\n",
    "y_pred = np.argmax(y_pred,axis=1)\n",
    "\n",
    "#y_prob = cnnmodel.predict_proba(X_test)[:, 1]\n",
    "\n",
    "ense_acc = accuracy_score(y_pred, y_test)\n",
    "ense_prec = precision_score(y_pred, y_test,average='weighted')\n",
    "ense_rec = recall_score(y_pred, y_test,average='weighted')\n",
    "ense_f1 = f1_score(y_pred, y_test,average='weighted')"
   ]
  },
  {
   "cell_type": "code",
   "execution_count": 124,
   "metadata": {},
   "outputs": [],
   "source": [
    "storeResults('CNN+LSTM',ense_acc,ense_prec,ense_rec,ense_f1)"
   ]
  },
  {
   "cell_type": "markdown",
   "metadata": {},
   "source": [
    "# GWO"
   ]
  },
  {
   "cell_type": "code",
   "execution_count": 36,
   "metadata": {},
   "outputs": [],
   "source": [
    "from FS.gwo import jfs   # change this to switch algorithm "
   ]
  },
  {
   "cell_type": "code",
   "execution_count": 37,
   "metadata": {},
   "outputs": [],
   "source": [
    "X = X.values"
   ]
  },
  {
   "cell_type": "code",
   "execution_count": 38,
   "metadata": {},
   "outputs": [],
   "source": [
    "y = y.values"
   ]
  },
  {
   "cell_type": "code",
   "execution_count": 39,
   "metadata": {},
   "outputs": [],
   "source": [
    "feat  = np.asarray(X)\n",
    "label = np.asarray(y)"
   ]
  },
  {
   "cell_type": "code",
   "execution_count": 40,
   "metadata": {},
   "outputs": [],
   "source": [
    "# split data into train & validation (70 -- 30)\n",
    "xtrain, xtest, ytrain, ytest = train_test_split(feat, label, test_size=0.3, stratify=label)\n",
    "fold = {'xt':xtrain, 'yt':ytrain, 'xv':xtest, 'yv':ytest}"
   ]
  },
  {
   "cell_type": "code",
   "execution_count": 41,
   "metadata": {},
   "outputs": [
    {
     "name": "stdout",
     "output_type": "stream",
     "text": [
      "Iteration: 1\n",
      "Best (GWO): 0.30107476635514024\n",
      "Iteration: 2\n",
      "Best (GWO): 0.27331775700934585\n",
      "Iteration: 3\n",
      "Best (GWO): 0.27331775700934585\n",
      "Iteration: 4\n",
      "Best (GWO): 0.27331775700934585\n",
      "Iteration: 5\n",
      "Best (GWO): 0.27331775700934585\n"
     ]
    }
   ],
   "source": [
    "# parameter\n",
    "k    = 5     # k-value\n",
    "N    = 5    # number of particles\n",
    "T    = 5   # maximum number of iterations\n",
    "opts = {'k':k, 'fold':fold, 'N':N, 'T':T}\n",
    "\n",
    "# perform feature selection\n",
    "fmdl = jfs(feat, label, opts)\n",
    "sf   = fmdl['sf']"
   ]
  },
  {
   "cell_type": "code",
   "execution_count": 42,
   "metadata": {},
   "outputs": [
    {
     "data": {
      "text/plain": [
       "array([ 0,  2,  4,  6,  7, 11])"
      ]
     },
     "execution_count": 42,
     "metadata": {},
     "output_type": "execute_result"
    }
   ],
   "source": [
    "sf"
   ]
  },
  {
   "cell_type": "code",
   "execution_count": 43,
   "metadata": {},
   "outputs": [],
   "source": [
    "# model with selected features\n",
    "num_train = np.size(xtrain, 0)\n",
    "num_valid = np.size(xtest, 0)"
   ]
  },
  {
   "cell_type": "code",
   "execution_count": 44,
   "metadata": {},
   "outputs": [],
   "source": [
    "x_train   = xtrain[:, sf]"
   ]
  },
  {
   "cell_type": "code",
   "execution_count": 45,
   "metadata": {},
   "outputs": [],
   "source": [
    "x_train   = xtrain[:, sf]\n",
    "y_train   = ytrain.reshape(num_train)  # Solve bug\n",
    "x_valid   = xtest[:, sf]\n",
    "y_valid   = ytest.reshape(num_valid)  # Solve bug"
   ]
  },
  {
   "cell_type": "code",
   "execution_count": 46,
   "metadata": {},
   "outputs": [
    {
     "name": "stdout",
     "output_type": "stream",
     "text": [
      "Feature Size: 6\n"
     ]
    }
   ],
   "source": [
    "# number of selected features\n",
    "num_feat = fmdl['nf']\n",
    "print(\"Feature Size:\", num_feat)"
   ]
  },
  {
   "cell_type": "code",
   "execution_count": 47,
   "metadata": {},
   "outputs": [
    {
     "data": {
      "image/png": "[encoded data removed]",
      "text/plain": [
       "<Figure size 432x288 with 1 Axes>"
      ]
     },
     "metadata": {
      "needs_background": "light"
     },
     "output_type": "display_data"
    }
   ],
   "source": [
    "# plot convergence\n",
    "curve   = fmdl['c']\n",
    "curve   = curve.reshape(np.size(curve,1))\n",
    "x       = np.arange(0, opts['T'], 1.0) + 1.0\n",
    "\n",
    "fig, ax = plt.subplots()\n",
    "ax.plot(x, curve, 'o-')\n",
    "ax.set_xlabel('Number of Iterations')\n",
    "ax.set_ylabel('Fitness')\n",
    "ax.set_title('GWO')\n",
    "ax.grid()\n",
    "plt.show()"
   ]
  },
  {
   "cell_type": "code",
   "execution_count": 48,
   "metadata": {},
   "outputs": [],
   "source": [
    "from tensorflow.keras.models import Sequential, load_model\n",
    "from tensorflow.keras.layers import Dense\n",
    "from tensorflow.keras.layers import Dropout\n",
    "from tensorflow.keras.layers import LSTM\n",
    "from tensorflow.keras.callbacks import ModelCheckpoint\n",
    "from keras.utils.np_utils import to_categorical\n",
    "import os\n",
    "from tensorflow.keras.layers import  MaxPooling2D\n",
    "from tensorflow.keras.layers import Dense, Dropout, Activation, Flatten, GlobalAveragePooling2D, BatchNormalization\n",
    "from tensorflow.keras.layers import Convolution2D"
   ]
  },
  {
   "cell_type": "code",
   "execution_count": 49,
   "metadata": {},
   "outputs": [],
   "source": [
    "X_fea = pd.DataFrame(x_train)\n",
    "y_fea = pd.DataFrame(y_train)"
   ]
  },
  {
   "cell_type": "code",
   "execution_count": 50,
   "metadata": {},
   "outputs": [
    {
     "name": "stdout",
     "output_type": "stream",
     "text": [
      "Normalized Dataset Values\n",
      "[[0.25       0.         0.41666667 0.25       0.91304348 0.39240506]\n",
      " [0.25       1.         0.52777778 0.         0.95652174 0.06751055]\n",
      " [0.         0.         0.58333333 0.25       0.95652174 0.44725738]\n",
      " ...\n",
      " [0.5        0.         0.61111111 1.         0.47826087 0.45428973]\n",
      " [0.5        1.         0.44444444 0.25       1.         0.12236287]\n",
      " [0.25       1.         0.05555556 0.         1.         0.04781997]]\n"
     ]
    }
   ],
   "source": [
    "from sklearn.preprocessing import MinMaxScaler\n",
    "normalized = MinMaxScaler()\n",
    "X = normalized.fit_transform(X_fea)#normalized dataset to 0 and 1\n",
    "print(\"Normalized Dataset Values\")\n",
    "print(X)"
   ]
  },
  {
   "cell_type": "code",
   "execution_count": 51,
   "metadata": {},
   "outputs": [],
   "source": [
    "X = np.reshape(X, (X.shape[0], X.shape[1], 1))"
   ]
  },
  {
   "cell_type": "code",
   "execution_count": 52,
   "metadata": {},
   "outputs": [],
   "source": [
    "X_train, X_test, y_train, y_test = train_test_split(X, y_fea, test_size=0.2)"
   ]
  },
  {
   "cell_type": "code",
   "execution_count": 53,
   "metadata": {},
   "outputs": [],
   "source": [
    "#now train extension CNN model\n",
    "X_train1 = np.reshape(X_train, (X_train.shape[0], X_train.shape[1], X_train.shape[2], 1))\n",
    "X_test1 = np.reshape(X_test, (X_test.shape[0], X_test.shape[1], X_test.shape[2], 1))"
   ]
  },
  {
   "cell_type": "code",
   "execution_count": 54,
   "metadata": {},
   "outputs": [],
   "source": [
    "model = Sequential()\n",
    "model.add(Convolution2D(32, (1 , 1), input_shape = (X_train1.shape[1], X_train1.shape[2], X_train1.shape[3]), activation = 'relu'))\n",
    "model.add(MaxPooling2D(pool_size = (1, 1)))\n",
    "model.add(Convolution2D(32, (1, 1), activation = 'relu'))\n",
    "model.add(MaxPooling2D(pool_size = (1, 1)))\n",
    "model.add(Flatten())\n",
    "model.add(Dense(units = 256, activation = 'relu'))\n",
    "model.add(Dense(units = y_train.shape[1], activation = 'softmax'))\n",
    "model.compile(optimizer = 'adam', loss = 'categorical_crossentropy', metrics = ['accuracy'])"
   ]
  },
  {
   "cell_type": "code",
   "execution_count": 55,
   "metadata": {},
   "outputs": [
    {
     "name": "stdout",
     "output_type": "stream",
     "text": [
      "Model: \"sequential_1\"\n",
      "_________________________________________________________________\n",
      "Layer (type)                 Output Shape              Param #   \n",
      "=================================================================\n",
      "conv2d (Conv2D)              (None, 6, 1, 32)          64        \n",
      "_________________________________________________________________\n",
      "max_pooling2d (MaxPooling2D) (None, 6, 1, 32)          0         \n",
      "_________________________________________________________________\n",
      "conv2d_1 (Conv2D)            (None, 6, 1, 32)          1056      \n",
      "_________________________________________________________________\n",
      "max_pooling2d_1 (MaxPooling2 (None, 6, 1, 32)          0         \n",
      "_________________________________________________________________\n",
      "flatten_1 (Flatten)          (None, 192)               0         \n",
      "_________________________________________________________________\n",
      "dense_3 (Dense)              (None, 256)               49408     \n",
      "_________________________________________________________________\n",
      "dense_4 (Dense)              (None, 1)                 257       \n",
      "=================================================================\n",
      "Total params: 50,785\n",
      "Trainable params: 50,785\n",
      "Non-trainable params: 0\n",
      "_________________________________________________________________\n"
     ]
    }
   ],
   "source": [
    "model.summary()"
   ]
  },
  {
   "cell_type": "code",
   "execution_count": 56,
   "metadata": {},
   "outputs": [
    {
     "name": "stdout",
     "output_type": "stream",
     "text": [
      "Epoch 1/5\n",
      "99/99 [==============================] - 0s 2ms/step - loss: 0.0000e+00 - accuracy: 0.3807 - val_loss: 0.0000e+00 - val_accuracy: 0.2800\n",
      "Epoch 2/5\n",
      "99/99 [==============================] - 0s 1ms/step - loss: 0.0000e+00 - accuracy: 0.3807 - val_loss: 0.0000e+00 - val_accuracy: 0.2800\n",
      "Epoch 3/5\n",
      "99/99 [==============================] - 0s 1ms/step - loss: 0.0000e+00 - accuracy: 0.3807 - val_loss: 0.0000e+00 - val_accuracy: 0.2800\n",
      "Epoch 4/5\n",
      "99/99 [==============================] - 0s 977us/step - loss: 0.0000e+00 - accuracy: 0.3807 - val_loss: 0.0000e+00 - val_accuracy: 0.2800\n",
      "Epoch 5/5\n",
      "99/99 [==============================] - 0s 977us/step - loss: 0.0000e+00 - accuracy: 0.3807 - val_loss: 0.0000e+00 - val_accuracy: 0.2800\n"
     ]
    }
   ],
   "source": [
    "hist1 = model.fit(X_train1, y_train, batch_size = 2, epochs = 5, validation_data=(X_test1, y_test), verbose=1)"
   ]
  },
  {
   "cell_type": "code",
   "execution_count": 57,
   "metadata": {},
   "outputs": [],
   "source": [
    "predict = model.predict(X_test1)\n",
    "predict = np.argmax(predict, axis=1)\n",
    "\n",
    "y_test1 = np.argmax(y_test, axis=1)\n",
    "\n",
    "tlgwo_acc = accuracy_score(predict, y_test1)\n",
    "tlgwo_prec = precision_score(predict, y_test1,average='weighted')\n",
    "tlgwo_rec = recall_score(predict, y_test1,average='weighted')\n",
    "tlgwo_f1 = f1_score(predict, y_test1,average='weighted')"
   ]
  },
  {
   "cell_type": "code",
   "execution_count": 58,
   "metadata": {},
   "outputs": [],
   "source": [
    "storeResults('TL-GWO',tlgwo_acc,tlgwo_prec,tlgwo_rec,tlgwo_f1)"
   ]
  },
  {
   "cell_type": "markdown",
   "metadata": {},
   "source": [
    "# PSO"
   ]
  },
  {
   "cell_type": "code",
   "execution_count": 59,
   "metadata": {},
   "outputs": [],
   "source": [
    "from FS.pso import jfs   # change this to switch algorithm "
   ]
  },
  {
   "cell_type": "code",
   "execution_count": 60,
   "metadata": {},
   "outputs": [
    {
     "name": "stdout",
     "output_type": "stream",
     "text": [
      "Iteration: 1\n",
      "Best (PSO): 0.4289408099688474\n",
      "Iteration: 2\n",
      "Best (PSO): 0.29015576323987546\n",
      "Iteration: 3\n",
      "Best (PSO): 0.29015576323987546\n",
      "Iteration: 4\n",
      "Best (PSO): 0.2893224299065421\n",
      "Iteration: 5\n",
      "Best (PSO): 0.2893224299065421\n"
     ]
    }
   ],
   "source": [
    "# parameter\n",
    "k    = 5     # k-value\n",
    "N    = 5    # number of particles\n",
    "T    = 5   # maximum number of iterations\n",
    "opts = {'k':k, 'fold':fold, 'N':N, 'T':T}\n",
    "\n",
    "# perform feature selection\n",
    "fmdl = jfs(feat, label, opts)\n",
    "sf   = fmdl['sf']"
   ]
  },
  {
   "cell_type": "code",
   "execution_count": 61,
   "metadata": {},
   "outputs": [],
   "source": [
    "# model with selected features\n",
    "num_train = np.size(xtrain, 0)\n",
    "num_valid = np.size(xtest, 0)"
   ]
  },
  {
   "cell_type": "code",
   "execution_count": 62,
   "metadata": {},
   "outputs": [],
   "source": [
    "x_train   = xtrain[:, sf]\n",
    "y_train   = ytrain.reshape(num_train)  # Solve bug\n",
    "x_valid   = xtest[:, sf]\n",
    "y_valid   = ytest.reshape(num_valid)  # Solve bug"
   ]
  },
  {
   "cell_type": "code",
   "execution_count": 63,
   "metadata": {},
   "outputs": [
    {
     "name": "stdout",
     "output_type": "stream",
     "text": [
      "Feature Size: 3\n"
     ]
    }
   ],
   "source": [
    "# number of selected features\n",
    "num_feat = fmdl['nf']\n",
    "print(\"Feature Size:\", num_feat)"
   ]
  },
  {
   "cell_type": "code",
   "execution_count": 64,
   "metadata": {},
   "outputs": [
    {
     "data": {
      "image/png": "[encoded data removed]",
      "text/plain": [
       "<Figure size 432x288 with 1 Axes>"
      ]
     },
     "metadata": {
      "needs_background": "light"
     },
     "output_type": "display_data"
    }
   ],
   "source": [
    "# plot convergence\n",
    "curve   = fmdl['c']\n",
    "curve   = curve.reshape(np.size(curve,1))\n",
    "x       = np.arange(0, opts['T'], 1.0) + 1.0\n",
    "\n",
    "fig, ax = plt.subplots()\n",
    "ax.plot(x, curve, 'o-')\n",
    "ax.set_xlabel('Number of Iterations')\n",
    "ax.set_ylabel('Fitness')\n",
    "ax.set_title('PSO')\n",
    "ax.grid()\n",
    "plt.show()"
   ]
  },
  {
   "cell_type": "code",
   "execution_count": 65,
   "metadata": {},
   "outputs": [],
   "source": [
    "X_fea = pd.DataFrame(x_train)\n",
    "y_fea = pd.DataFrame(y_train)"
   ]
  },
  {
   "cell_type": "code",
   "execution_count": 66,
   "metadata": {},
   "outputs": [
    {
     "name": "stdout",
     "output_type": "stream",
     "text": [
      "Normalized Dataset Values\n",
      "[[0.25       0.19098143 0.25      ]\n",
      " [0.25       0.45926487 0.25      ]\n",
      " [0.         0.         0.        ]\n",
      " [0.25       0.29329291 0.        ]\n",
      " [0.25       0.38272073 0.25      ]\n",
      " [0.         0.         0.        ]\n",
      " [0.25       0.25198939 0.        ]\n",
      " [0.25       0.22546419 1.        ]\n",
      " [0.25       0.18529746 0.        ]\n",
      " [0.         0.         0.25      ]\n",
      " [0.         0.         0.        ]\n",
      " [0.         0.         0.25      ]\n",
      " [0.         0.         0.        ]\n",
      " [0.25       0.17885563 0.25      ]\n",
      " [0.25       0.32360743 0.25      ]\n",
      " [0.5        0.23380068 0.25      ]\n",
      " [0.75       0.95035998 0.25      ]\n",
      " [0.25       0.44107617 0.25      ]\n",
      " [0.25       0.25502084 0.25      ]\n",
      " [0.         0.         0.5       ]\n",
      " [0.25       0.26184161 0.        ]\n",
      " [0.25       0.36074271 0.        ]\n",
      " [0.         0.         0.25      ]\n",
      " [0.25       0.26108374 0.        ]\n",
      " [0.25       0.48882152 0.25      ]\n",
      " [0.5        0.76885184 0.25      ]\n",
      " [0.75       0.70519136 0.        ]\n",
      " [0.5        0.62561576 0.        ]\n",
      " [0.         0.         0.        ]\n",
      " [0.25       0.27889352 0.5       ]\n",
      " [0.25       0.23569534 0.        ]\n",
      " [0.         0.         0.25      ]\n",
      " [0.         0.         0.25      ]\n",
      " [0.         0.         0.5       ]\n",
      " [0.25       0.29973475 0.        ]\n",
      " [0.5        0.64228875 0.        ]\n",
      " [0.5        0.54376658 0.5       ]\n",
      " [0.25       0.32057598 0.25      ]\n",
      " [0.         0.         0.        ]\n",
      " [0.         0.         0.        ]\n",
      " [0.         0.         0.5       ]\n",
      " [0.         0.         0.        ]\n",
      " [0.         0.         0.        ]\n",
      " [0.         0.         0.25      ]\n",
      " [0.25       0.4342554  0.        ]\n",
      " [0.         0.         0.25      ]\n",
      " [0.25       0.29480864 0.        ]\n",
      " [0.25       0.13338386 0.5       ]\n",
      " [0.5        0.51193634 0.        ]\n",
      " [0.25       0.24100038 0.25      ]\n",
      " [0.25       0.26790451 0.25      ]\n",
      " [0.25       0.36225843 0.        ]\n",
      " [0.25       0.32057598 0.        ]\n",
      " [0.         0.         0.25      ]\n",
      " [0.25       0.15346722 0.        ]\n",
      " [0.         0.         0.        ]\n",
      " [0.25       0.33459644 0.25      ]\n",
      " [0.75       0.36756347 0.5       ]\n",
      " [0.5        0.50435771 0.25      ]\n",
      " [0.25       0.25881016 0.25      ]\n",
      " [0.25       0.2557787  0.        ]\n",
      " [0.         0.         0.25      ]\n",
      " [0.         0.         0.25      ]\n",
      " [0.         0.         0.        ]\n",
      " [0.25       0.25198939 0.        ]\n",
      " [0.25       0.30049261 0.25      ]\n",
      " [0.5        0.50966275 0.        ]\n",
      " [0.25       0.09397499 0.5       ]\n",
      " [0.         0.         0.        ]\n",
      " [0.         0.         0.        ]\n",
      " [0.5        0.3281546  0.5       ]\n",
      " [0.         0.         0.25      ]\n",
      " [0.25       0.18605532 0.25      ]\n",
      " [0.         0.         0.        ]\n",
      " [0.5        0.58848049 0.        ]\n",
      " [0.         0.         0.        ]\n",
      " [0.         0.         0.        ]\n",
      " [0.5        0.5922698  0.25      ]\n",
      " [0.5        0.60287988 0.        ]\n",
      " [0.         0.         0.25      ]\n",
      " [0.25       0.26525199 0.25      ]\n",
      " [0.5        0.27737779 0.        ]\n",
      " [0.75       0.73247442 0.25      ]\n",
      " [0.5        0.61803714 0.        ]\n",
      " [0.         0.         0.25      ]\n",
      " [1.         0.90413035 0.        ]\n",
      " [0.25       0.18681319 0.        ]\n",
      " [0.25       0.21144373 0.25      ]\n",
      " [0.         0.         0.        ]\n",
      " [0.         0.         0.        ]\n",
      " [0.         0.         0.        ]\n",
      " [0.25       0.53012505 0.        ]\n",
      " [0.25       0.21485411 0.25      ]\n",
      " [0.         0.         0.5       ]\n",
      " [0.         0.         0.25      ]\n",
      " [0.25       0.26752558 0.25      ]\n",
      " [0.25       0.276241   0.5       ]\n",
      " [0.75       0.86699507 0.        ]\n",
      " [0.         0.         0.        ]\n",
      " [0.         0.         0.        ]\n",
      " [0.25       0.2038651  0.5       ]\n",
      " [0.25       0.15270936 0.25      ]\n",
      " [0.         0.         0.25      ]\n",
      " [0.         0.         0.25      ]\n",
      " [0.5        0.48768473 0.        ]\n",
      " [0.5        0.54490337 0.        ]\n",
      " [0.         0.         0.5       ]\n",
      " [0.25       0.24516862 0.        ]\n",
      " [0.25       0.2425161  0.        ]\n",
      " [0.25       0.2895036  0.5       ]\n",
      " [0.5        0.53618795 0.        ]\n",
      " [0.75       0.6707086  0.        ]\n",
      " [0.25       0.19893899 0.5       ]\n",
      " [0.25       0.21978022 0.25      ]\n",
      " [0.         0.         0.        ]\n",
      " [0.5        0.50890489 0.25      ]\n",
      " [0.         0.         0.        ]\n",
      " [0.25       0.23076923 0.        ]\n",
      " [0.         0.         0.25      ]\n",
      " [0.25       0.22622205 0.        ]\n",
      " [0.         0.         0.5       ]\n",
      " [0.         0.         0.        ]\n",
      " [0.         0.         0.        ]\n",
      " [0.         0.         0.5       ]\n",
      " [0.         0.         0.5       ]\n",
      " [0.5        0.58923835 0.        ]\n",
      " [0.75       0.81583933 0.25      ]\n",
      " [0.25       0.2038651  0.        ]\n",
      " [0.         0.         0.        ]\n",
      " [0.75       0.71390678 0.        ]\n",
      " [0.         0.         0.        ]\n",
      " [0.5        0.61803714 0.25      ]\n",
      " [0.         0.         0.        ]\n",
      " [0.         0.         0.25      ]\n",
      " [0.5        0.45623342 0.        ]\n",
      " [0.25       0.13830997 0.5       ]\n",
      " [1.         0.95377037 0.        ]\n",
      " [0.         0.         0.        ]\n",
      " [0.         0.         0.        ]\n",
      " [0.25       0.31451307 0.25      ]\n",
      " [0.         0.         0.25      ]\n",
      " [0.         0.         0.5       ]\n",
      " [0.25       0.3872679  0.        ]\n",
      " [0.         0.         0.        ]\n",
      " [0.         0.         0.        ]\n",
      " [0.25       0.42553998 0.25      ]\n",
      " [0.         0.         0.25      ]\n",
      " [0.25       0.27661993 0.        ]\n",
      " [0.         0.         0.        ]\n",
      " [0.         0.         0.        ]\n",
      " [0.25       0.17089807 0.        ]\n",
      " [0.5        0.6055324  0.        ]\n",
      " [0.         0.         0.        ]\n",
      " [0.25       0.27927245 0.        ]\n",
      " [0.5        0.38613111 0.        ]\n",
      " [0.25       0.21485411 0.25      ]\n",
      " [0.25       0.16710875 0.        ]\n",
      " [0.         0.         0.        ]\n",
      " [0.25       0.28154604 0.        ]\n",
      " [0.25       0.30390299 0.        ]\n",
      " [0.         0.         0.        ]\n",
      " [0.         0.         0.        ]\n",
      " [0.5        0.381205   0.25      ]\n",
      " [0.         0.         0.25      ]\n",
      " [0.         0.         0.        ]\n",
      " [0.25       0.24706328 0.25      ]\n",
      " [0.         0.         0.25      ]\n",
      " [0.         0.         0.        ]\n",
      " [0.25       0.23114816 0.5       ]\n",
      " [0.25       0.35316408 0.        ]\n",
      " [0.75       0.67411898 0.        ]\n",
      " [0.         0.         0.        ]\n",
      " [0.25       0.17317166 0.        ]\n",
      " [0.         0.         0.        ]\n",
      " [0.25       0.25729443 0.        ]\n",
      " [0.5        0.24516862 0.5       ]\n",
      " [0.         0.         0.25      ]\n",
      " [0.         0.         0.25      ]\n",
      " [0.25       0.33080712 0.        ]\n",
      " [0.25       0.14967791 0.        ]\n",
      " [0.25       0.17203486 0.        ]\n",
      " [0.5        0.60932171 0.        ]\n",
      " [0.25       0.06896552 0.        ]\n",
      " [0.25       0.17885563 0.        ]\n",
      " [0.         0.         0.        ]\n",
      " [0.         0.         0.        ]\n",
      " [0.         0.         0.        ]\n",
      " [0.         0.         0.        ]\n",
      " [0.5        0.46760136 0.        ]\n",
      " [0.         0.         0.        ]\n",
      " [0.25       0.21826449 0.        ]\n",
      " [0.         0.         0.        ]\n",
      " [0.75       0.79840849 0.        ]\n",
      " [0.5        0.66388784 0.        ]\n",
      " [0.25       0.29935582 0.        ]\n",
      " [0.25       0.25539977 0.        ]\n",
      " [0.25       0.08033346 0.25      ]\n",
      " [0.25       0.33383858 0.25      ]\n",
      " [0.         0.         0.        ]\n",
      " [0.         0.         0.        ]\n",
      " [0.         0.         0.        ]\n",
      " [0.5        0.87040546 0.25      ]\n",
      " [0.         0.         0.        ]\n",
      " [0.         0.         0.        ]\n",
      " [0.         0.         0.25      ]\n",
      " [0.5        0.75862069 0.25      ]\n",
      " [0.         0.         0.5       ]\n",
      " [0.25       0.29026146 0.        ]\n",
      " [0.25       0.25767336 0.        ]\n",
      " [0.25       0.31906025 0.25      ]\n",
      " [0.5        0.62713149 0.25      ]\n",
      " [0.         0.         0.25      ]\n",
      " [0.25       0.27510421 0.        ]\n",
      " [1.         0.90943539 0.        ]\n",
      " [0.         0.         0.        ]\n",
      " [0.         0.         0.25      ]\n",
      " [0.         0.         0.        ]\n",
      " [0.25       0.31375521 0.        ]\n",
      " [0.         0.         0.        ]\n",
      " [0.5        0.53505116 0.        ]\n",
      " [0.         0.         0.        ]\n",
      " [0.         0.         0.25      ]\n",
      " [0.5        0.26032588 0.        ]\n",
      " [0.25       0.18416067 0.25      ]\n",
      " [0.         0.         0.        ]\n",
      " [0.25       0.28912467 0.        ]\n",
      " [0.5        0.64910951 0.        ]\n",
      " [0.         0.         0.5       ]\n",
      " [0.25       0.23531641 0.25      ]\n",
      " [0.25       0.17620311 0.5       ]\n",
      " [0.25       0.24327397 0.25      ]\n",
      " [1.         1.         0.25      ]\n",
      " [0.         0.         0.        ]\n",
      " [0.25       0.28647215 0.25      ]\n",
      " [0.25       0.32247063 0.25      ]\n",
      " [0.         0.         0.        ]\n",
      " [0.25       0.29442971 0.        ]\n",
      " [0.25       0.21258052 0.        ]\n",
      " [0.75       0.68435013 0.        ]\n",
      " [0.25       0.39674119 0.        ]\n",
      " [0.25       0.2436529  0.        ]\n",
      " [0.25       0.23114816 0.25      ]\n",
      " [0.         0.         0.25      ]\n",
      " [0.         0.         0.        ]\n",
      " [0.5        0.48579007 0.25      ]\n",
      " [0.5        0.50966275 0.        ]\n",
      " [0.25       0.18832891 0.25      ]]\n"
     ]
    }
   ],
   "source": [
    "from sklearn.preprocessing import MinMaxScaler\n",
    "normalized = MinMaxScaler()\n",
    "X = normalized.fit_transform(X_fea)#normalized dataset to 0 and 1\n",
    "print(\"Normalized Dataset Values\")\n",
    "print(X)"
   ]
  },
  {
   "cell_type": "code",
   "execution_count": 67,
   "metadata": {},
   "outputs": [],
   "source": [
    "X = np.reshape(X, (X.shape[0], X.shape[1], 1))"
   ]
  },
  {
   "cell_type": "code",
   "execution_count": 68,
   "metadata": {},
   "outputs": [],
   "source": [
    "X_train, X_test, y_train, y_test = train_test_split(X, y_fea, test_size=0.2)"
   ]
  },
  {
   "cell_type": "code",
   "execution_count": 69,
   "metadata": {},
   "outputs": [],
   "source": [
    "#now train extension CNN model\n",
    "X_train1 = np.reshape(X_train, (X_train.shape[0], X_train.shape[1], X_train.shape[2], 1))\n",
    "X_test1 = np.reshape(X_test, (X_test.shape[0], X_test.shape[1], X_test.shape[2], 1))"
   ]
  },
  {
   "cell_type": "code",
   "execution_count": 70,
   "metadata": {},
   "outputs": [],
   "source": [
    "model = Sequential()\n",
    "model.add(Convolution2D(32, (1 , 1), input_shape = (X_train1.shape[1], X_train1.shape[2], X_train1.shape[3]), activation = 'relu'))\n",
    "model.add(MaxPooling2D(pool_size = (1, 1)))\n",
    "model.add(Convolution2D(32, (1, 1), activation = 'relu'))\n",
    "model.add(MaxPooling2D(pool_size = (1, 1)))\n",
    "model.add(Flatten())\n",
    "model.add(Dense(units = 256, activation = 'relu'))\n",
    "model.add(Dense(units = y_train.shape[1], activation = 'softmax'))\n",
    "model.compile(optimizer = 'adam', loss = 'categorical_crossentropy', metrics = ['accuracy'])"
   ]
  },
  {
   "cell_type": "code",
   "execution_count": 71,
   "metadata": {},
   "outputs": [
    {
     "name": "stdout",
     "output_type": "stream",
     "text": [
      "Model: \"sequential_2\"\n",
      "_________________________________________________________________\n",
      "Layer (type)                 Output Shape              Param #   \n",
      "=================================================================\n",
      "conv2d_2 (Conv2D)            (None, 3, 1, 32)          64        \n",
      "_________________________________________________________________\n",
      "max_pooling2d_2 (MaxPooling2 (None, 3, 1, 32)          0         \n",
      "_________________________________________________________________\n",
      "conv2d_3 (Conv2D)            (None, 3, 1, 32)          1056      \n",
      "_________________________________________________________________\n",
      "max_pooling2d_3 (MaxPooling2 (None, 3, 1, 32)          0         \n",
      "_________________________________________________________________\n",
      "flatten_2 (Flatten)          (None, 96)                0         \n",
      "_________________________________________________________________\n",
      "dense_5 (Dense)              (None, 256)               24832     \n",
      "_________________________________________________________________\n",
      "dense_6 (Dense)              (None, 1)                 257       \n",
      "=================================================================\n",
      "Total params: 26,209\n",
      "Trainable params: 26,209\n",
      "Non-trainable params: 0\n",
      "_________________________________________________________________\n"
     ]
    }
   ],
   "source": [
    "model.summary()"
   ]
  },
  {
   "cell_type": "code",
   "execution_count": 72,
   "metadata": {},
   "outputs": [
    {
     "name": "stdout",
     "output_type": "stream",
     "text": [
      "Epoch 1/5\n",
      "99/99 [==============================] - 0s 2ms/step - loss: 0.0000e+00 - accuracy: 0.3452 - val_loss: 0.0000e+00 - val_accuracy: 0.4200\n",
      "Epoch 2/5\n",
      "99/99 [==============================] - 0s 957us/step - loss: 0.0000e+00 - accuracy: 0.3452 - val_loss: 0.0000e+00 - val_accuracy: 0.4200\n",
      "Epoch 3/5\n",
      "99/99 [==============================] - 0s 952us/step - loss: 0.0000e+00 - accuracy: 0.3452 - val_loss: 0.0000e+00 - val_accuracy: 0.4200\n",
      "Epoch 4/5\n",
      "99/99 [==============================] - 0s 977us/step - loss: 0.0000e+00 - accuracy: 0.3452 - val_loss: 0.0000e+00 - val_accuracy: 0.4200\n",
      "Epoch 5/5\n",
      "99/99 [==============================] - 0s 958us/step - loss: 0.0000e+00 - accuracy: 0.3452 - val_loss: 0.0000e+00 - val_accuracy: 0.4200\n"
     ]
    }
   ],
   "source": [
    "hist1 = model.fit(X_train1, y_train, batch_size = 2, epochs = 5, validation_data=(X_test1, y_test), verbose=1)"
   ]
  },
  {
   "cell_type": "code",
   "execution_count": 73,
   "metadata": {},
   "outputs": [],
   "source": [
    "predict = model.predict(X_test1)\n",
    "predict = np.argmax(predict, axis=1)\n",
    "\n",
    "y_test1 = np.argmax(y_test, axis=1)\n",
    "\n",
    "tlpso_acc = accuracy_score(predict, y_test1)\n",
    "tlpso_prec = precision_score(predict, y_test1,average='weighted')\n",
    "tlpso_rec = recall_score(predict, y_test1,average='weighted')\n",
    "tlpso_f1 = f1_score(predict, y_test1,average='weighted')"
   ]
  },
  {
   "cell_type": "code",
   "execution_count": 74,
   "metadata": {},
   "outputs": [],
   "source": [
    "storeResults('TL-PSO',tlpso_acc,tlpso_prec,tlpso_rec,tlpso_f1)"
   ]
  },
  {
   "cell_type": "markdown",
   "metadata": {},
   "source": [
    "# GA"
   ]
  },
  {
   "cell_type": "code",
   "execution_count": 75,
   "metadata": {},
   "outputs": [],
   "source": [
    "from FS.ga import jfs   # change this to switch algorithm "
   ]
  },
  {
   "cell_type": "code",
   "execution_count": 76,
   "metadata": {},
   "outputs": [
    {
     "name": "stdout",
     "output_type": "stream",
     "text": [
      "Generation: 1\n",
      "Best (GA): 0.31874610591900315\n",
      "Generation: 2\n",
      "Best (GA): 0.2741510903426792\n",
      "Generation: 3\n",
      "Best (GA): 0.16228971962616826\n",
      "Generation: 4\n",
      "Best (GA): 0.16228971962616826\n",
      "Generation: 5\n",
      "Best (GA): 0.16228971962616826\n"
     ]
    }
   ],
   "source": [
    "# parameter\n",
    "k    = 5     # k-value\n",
    "N    = 5    # number of particles\n",
    "T    = 5   # maximum number of iterations\n",
    "opts = {'k':k, 'fold':fold, 'N':N, 'T':T}\n",
    "\n",
    "# perform feature selection\n",
    "fmdl = jfs(feat, label, opts)\n",
    "sf   = fmdl['sf']"
   ]
  },
  {
   "cell_type": "code",
   "execution_count": 77,
   "metadata": {},
   "outputs": [],
   "source": [
    "# model with selected features\n",
    "num_train = np.size(xtrain, 0)\n",
    "num_valid = np.size(xtest, 0)"
   ]
  },
  {
   "cell_type": "code",
   "execution_count": 78,
   "metadata": {},
   "outputs": [],
   "source": [
    "x_train   = xtrain[:, sf]"
   ]
  },
  {
   "cell_type": "code",
   "execution_count": 79,
   "metadata": {},
   "outputs": [],
   "source": [
    "x_train   = xtrain[:, sf]\n",
    "y_train   = ytrain.reshape(num_train)  # Solve bug\n",
    "x_valid   = xtest[:, sf]\n",
    "y_valid   = ytest.reshape(num_valid)  # Solve bug"
   ]
  },
  {
   "cell_type": "code",
   "execution_count": 80,
   "metadata": {},
   "outputs": [
    {
     "name": "stdout",
     "output_type": "stream",
     "text": [
      "Feature Size: 6\n"
     ]
    }
   ],
   "source": [
    "# number of selected features\n",
    "num_feat = fmdl['nf']\n",
    "print(\"Feature Size:\", num_feat)"
   ]
  },
  {
   "cell_type": "code",
   "execution_count": 81,
   "metadata": {},
   "outputs": [
    {
     "data": {
      "image/png": "[encoded data removed]",
      "text/plain": [
       "<Figure size 432x288 with 1 Axes>"
      ]
     },
     "metadata": {
      "needs_background": "light"
     },
     "output_type": "display_data"
    }
   ],
   "source": [
    "# plot convergence\n",
    "curve   = fmdl['c']\n",
    "curve   = curve.reshape(np.size(curve,1))\n",
    "x       = np.arange(0, opts['T'], 1.0) + 1.0\n",
    "\n",
    "fig, ax = plt.subplots()\n",
    "ax.plot(x, curve, 'o-')\n",
    "ax.set_xlabel('Number of Iterations')\n",
    "ax.set_ylabel('Fitness')\n",
    "ax.set_title('GA')\n",
    "ax.grid()\n",
    "plt.show()"
   ]
  },
  {
   "cell_type": "code",
   "execution_count": 82,
   "metadata": {},
   "outputs": [],
   "source": [
    "X_fea = pd.DataFrame(x_train)\n",
    "y_fea = pd.DataFrame(y_train)"
   ]
  },
  {
   "cell_type": "code",
   "execution_count": 83,
   "metadata": {},
   "outputs": [
    {
     "name": "stdout",
     "output_type": "stream",
     "text": [
      "Normalized Dataset Values\n",
      "[[0.25       0.         0.41176471 0.91304348 0.25       0.39240506]\n",
      " [0.25       0.         0.58823529 0.95652174 0.25       0.06751055]\n",
      " [0.         0.         0.70588235 0.95652174 0.         0.44725738]\n",
      " ...\n",
      " [0.5        0.         0.11764706 0.47826087 0.25       0.45428973]\n",
      " [0.5        0.         0.82352941 1.         0.         0.12236287]\n",
      " [0.25       0.         0.70588235 1.         0.25       0.04781997]]\n"
     ]
    }
   ],
   "source": [
    "from sklearn.preprocessing import MinMaxScaler\n",
    "normalized = MinMaxScaler()\n",
    "X = normalized.fit_transform(X_fea)#normalized dataset to 0 and 1\n",
    "print(\"Normalized Dataset Values\")\n",
    "print(X)"
   ]
  },
  {
   "cell_type": "code",
   "execution_count": 84,
   "metadata": {},
   "outputs": [],
   "source": [
    "X = np.reshape(X, (X.shape[0], X.shape[1], 1))"
   ]
  },
  {
   "cell_type": "code",
   "execution_count": 85,
   "metadata": {},
   "outputs": [],
   "source": [
    "X_train, X_test, y_train, y_test = train_test_split(X, y_fea, test_size=0.2)"
   ]
  },
  {
   "cell_type": "code",
   "execution_count": 86,
   "metadata": {},
   "outputs": [],
   "source": [
    "#now train extension CNN model\n",
    "X_train1 = np.reshape(X_train, (X_train.shape[0], X_train.shape[1], X_train.shape[2], 1))\n",
    "X_test1 = np.reshape(X_test, (X_test.shape[0], X_test.shape[1], X_test.shape[2], 1))"
   ]
  },
  {
   "cell_type": "code",
   "execution_count": 87,
   "metadata": {},
   "outputs": [],
   "source": [
    "model = Sequential()\n",
    "model.add(Convolution2D(32, (1 , 1), input_shape = (X_train1.shape[1], X_train1.shape[2], X_train1.shape[3]), activation = 'relu'))\n",
    "model.add(MaxPooling2D(pool_size = (1, 1)))\n",
    "model.add(Convolution2D(32, (1, 1), activation = 'relu'))\n",
    "model.add(MaxPooling2D(pool_size = (1, 1)))\n",
    "model.add(Flatten())\n",
    "model.add(Dense(units = 256, activation = 'relu'))\n",
    "model.add(Dense(units = y_train.shape[1], activation = 'softmax'))\n",
    "model.compile(optimizer = 'adam', loss = 'categorical_crossentropy', metrics = ['accuracy'])"
   ]
  },
  {
   "cell_type": "code",
   "execution_count": 88,
   "metadata": {},
   "outputs": [
    {
     "name": "stdout",
     "output_type": "stream",
     "text": [
      "Model: \"sequential_3\"\n",
      "_________________________________________________________________\n",
      "Layer (type)                 Output Shape              Param #   \n",
      "=================================================================\n",
      "conv2d_4 (Conv2D)            (None, 6, 1, 32)          64        \n",
      "_________________________________________________________________\n",
      "max_pooling2d_4 (MaxPooling2 (None, 6, 1, 32)          0         \n",
      "_________________________________________________________________\n",
      "conv2d_5 (Conv2D)            (None, 6, 1, 32)          1056      \n",
      "_________________________________________________________________\n",
      "max_pooling2d_5 (MaxPooling2 (None, 6, 1, 32)          0         \n",
      "_________________________________________________________________\n",
      "flatten_3 (Flatten)          (None, 192)               0         \n",
      "_________________________________________________________________\n",
      "dense_7 (Dense)              (None, 256)               49408     \n",
      "_________________________________________________________________\n",
      "dense_8 (Dense)              (None, 1)                 257       \n",
      "=================================================================\n",
      "Total params: 50,785\n",
      "Trainable params: 50,785\n",
      "Non-trainable params: 0\n",
      "_________________________________________________________________\n"
     ]
    }
   ],
   "source": [
    "model.summary()"
   ]
  },
  {
   "cell_type": "code",
   "execution_count": 89,
   "metadata": {},
   "outputs": [
    {
     "name": "stdout",
     "output_type": "stream",
     "text": [
      "Epoch 1/5\n",
      "99/99 [==============================] - 0s 2ms/step - loss: 0.0000e+00 - accuracy: 0.3655 - val_loss: 0.0000e+00 - val_accuracy: 0.3400\n",
      "Epoch 2/5\n",
      "99/99 [==============================] - 0s 1ms/step - loss: 0.0000e+00 - accuracy: 0.3655 - val_loss: 0.0000e+00 - val_accuracy: 0.3400\n",
      "Epoch 3/5\n",
      "99/99 [==============================] - 0s 993us/step - loss: 0.0000e+00 - accuracy: 0.3655 - val_loss: 0.0000e+00 - val_accuracy: 0.3400\n",
      "Epoch 4/5\n",
      "99/99 [==============================] - 0s 997us/step - loss: 0.0000e+00 - accuracy: 0.3655 - val_loss: 0.0000e+00 - val_accuracy: 0.3400\n",
      "Epoch 5/5\n",
      "99/99 [==============================] - 0s 1ms/step - loss: 0.0000e+00 - accuracy: 0.3655 - val_loss: 0.0000e+00 - val_accuracy: 0.3400\n"
     ]
    }
   ],
   "source": [
    "hist1 = model.fit(X_train1, y_train, batch_size = 2, epochs = 5, validation_data=(X_test1, y_test), verbose=1)"
   ]
  },
  {
   "cell_type": "code",
   "execution_count": 90,
   "metadata": {},
   "outputs": [],
   "source": [
    "predict = model.predict(X_test1)\n",
    "predict = np.argmax(predict, axis=1)\n",
    "\n",
    "y_test1 = np.argmax(y_test, axis=1)\n",
    "\n",
    "tlga_acc = accuracy_score(predict, y_test1)\n",
    "tlga_prec = precision_score(predict, y_test1,average='weighted')\n",
    "tlga_rec = recall_score(predict, y_test1,average='weighted')\n",
    "tlga_f1 = f1_score(predict, y_test1,average='weighted')"
   ]
  },
  {
   "cell_type": "code",
   "execution_count": 91,
   "metadata": {},
   "outputs": [],
   "source": [
    "storeResults('TL-GA',tlga_acc,tlga_prec,tlga_rec,tlga_f1)"
   ]
  },
  {
   "cell_type": "markdown",
   "metadata": {},
   "source": [
    "# MBO"
   ]
  },
  {
   "cell_type": "code",
   "execution_count": 92,
   "metadata": {},
   "outputs": [],
   "source": [
    "from FS.mbo import jfs   # change this to switch algorithm "
   ]
  },
  {
   "cell_type": "code",
   "execution_count": 93,
   "metadata": {},
   "outputs": [
    {
     "name": "stdout",
     "output_type": "stream",
     "text": [
      "Generation: 1\n",
      "Best (MBO): 0.19004672897196265\n",
      "Generation: 2\n",
      "Best (MBO): 0.10594236760124612\n",
      "Generation: 3\n",
      "Best (MBO): 0.10594236760124612\n",
      "Generation: 4\n",
      "Best (MBO): 0.10594236760124612\n",
      "Generation: 5\n",
      "Best (MBO): 0.10594236760124612\n"
     ]
    }
   ],
   "source": [
    "# parameter\n",
    "k    = 5     # k-value\n",
    "N    = 5    # number of particles\n",
    "T    = 5   # maximum number of iterations\n",
    "opts = {'k':k, 'fold':fold, 'N':N, 'T':T}\n",
    "\n",
    "# perform feature selection\n",
    "fmdl = jfs(feat, label, opts)\n",
    "sf   = fmdl['sf']"
   ]
  },
  {
   "cell_type": "code",
   "execution_count": 94,
   "metadata": {},
   "outputs": [],
   "source": [
    "# model with selected features\n",
    "num_train = np.size(xtrain, 0)\n",
    "num_valid = np.size(xtest, 0)"
   ]
  },
  {
   "cell_type": "code",
   "execution_count": 95,
   "metadata": {},
   "outputs": [],
   "source": [
    "x_train   = xtrain[:, sf]\n",
    "y_train   = ytrain.reshape(num_train)  # Solve bug\n",
    "x_valid   = xtest[:, sf]\n",
    "y_valid   = ytest.reshape(num_valid)  # Solve bug"
   ]
  },
  {
   "cell_type": "code",
   "execution_count": 96,
   "metadata": {},
   "outputs": [
    {
     "data": {
      "image/png": "[encoded data removed]",
      "text/plain": [
       "<Figure size 432x288 with 1 Axes>"
      ]
     },
     "metadata": {
      "needs_background": "light"
     },
     "output_type": "display_data"
    }
   ],
   "source": [
    "# plot convergence\n",
    "curve   = fmdl['c']\n",
    "curve   = curve.reshape(np.size(curve,1))\n",
    "x       = np.arange(0, opts['T'], 1.0) + 1.0\n",
    "\n",
    "fig, ax = plt.subplots()\n",
    "ax.plot(x, curve, 'o-')\n",
    "ax.set_xlabel('Number of Iterations')\n",
    "ax.set_ylabel('Fitness')\n",
    "ax.set_title('MBO')\n",
    "ax.grid()\n",
    "plt.show()"
   ]
  },
  {
   "cell_type": "code",
   "execution_count": 97,
   "metadata": {},
   "outputs": [],
   "source": [
    "X_fea = pd.DataFrame(x_train)\n",
    "y_fea = pd.DataFrame(y_train)"
   ]
  },
  {
   "cell_type": "code",
   "execution_count": 98,
   "metadata": {},
   "outputs": [
    {
     "name": "stdout",
     "output_type": "stream",
     "text": [
      "Normalized Dataset Values\n",
      "[[0.25       0.         0.25       0.33160622 0.39240506]\n",
      " [0.25       1.         0.25       0.29015544 0.06751055]\n",
      " [0.         0.         0.         0.22279793 0.44725738]\n",
      " ...\n",
      " [0.5        0.         0.25       0.19689119 0.45428973]\n",
      " [0.5        1.         0.         0.49222798 0.12236287]\n",
      " [0.25       1.         0.25       0.4507772  0.04781997]]\n"
     ]
    }
   ],
   "source": [
    "from sklearn.preprocessing import MinMaxScaler\n",
    "normalized = MinMaxScaler()\n",
    "X = normalized.fit_transform(X_fea)#normalized dataset to 0 and 1\n",
    "print(\"Normalized Dataset Values\")\n",
    "print(X)"
   ]
  },
  {
   "cell_type": "code",
   "execution_count": 99,
   "metadata": {},
   "outputs": [],
   "source": [
    "X = np.reshape(X, (X.shape[0], X.shape[1], 1))"
   ]
  },
  {
   "cell_type": "code",
   "execution_count": 100,
   "metadata": {},
   "outputs": [],
   "source": [
    "X_train, X_test, y_train, y_test = train_test_split(X, y_fea, test_size=0.2)"
   ]
  },
  {
   "cell_type": "code",
   "execution_count": 101,
   "metadata": {},
   "outputs": [],
   "source": [
    "#now train extension CNN model\n",
    "X_train1 = np.reshape(X_train, (X_train.shape[0], X_train.shape[1], X_train.shape[2], 1))\n",
    "X_test1 = np.reshape(X_test, (X_test.shape[0], X_test.shape[1], X_test.shape[2], 1))"
   ]
  },
  {
   "cell_type": "code",
   "execution_count": 102,
   "metadata": {},
   "outputs": [],
   "source": [
    "model = Sequential()\n",
    "model.add(Convolution2D(32, (1 , 1), input_shape = (X_train1.shape[1], X_train1.shape[2], X_train1.shape[3]), activation = 'relu'))\n",
    "model.add(MaxPooling2D(pool_size = (1, 1)))\n",
    "model.add(Convolution2D(32, (1, 1), activation = 'relu'))\n",
    "model.add(MaxPooling2D(pool_size = (1, 1)))\n",
    "model.add(Flatten())\n",
    "model.add(Dense(units = 256, activation = 'relu'))\n",
    "model.add(Dense(units = y_train.shape[1], activation = 'softmax'))\n",
    "model.compile(optimizer = 'adam', loss = 'categorical_crossentropy', metrics = ['accuracy'])"
   ]
  },
  {
   "cell_type": "code",
   "execution_count": 103,
   "metadata": {},
   "outputs": [
    {
     "name": "stdout",
     "output_type": "stream",
     "text": [
      "Model: \"sequential_4\"\n",
      "_________________________________________________________________\n",
      "Layer (type)                 Output Shape              Param #   \n",
      "=================================================================\n",
      "conv2d_6 (Conv2D)            (None, 5, 1, 32)          64        \n",
      "_________________________________________________________________\n",
      "max_pooling2d_6 (MaxPooling2 (None, 5, 1, 32)          0         \n",
      "_________________________________________________________________\n",
      "conv2d_7 (Conv2D)            (None, 5, 1, 32)          1056      \n",
      "_________________________________________________________________\n",
      "max_pooling2d_7 (MaxPooling2 (None, 5, 1, 32)          0         \n",
      "_________________________________________________________________\n",
      "flatten_4 (Flatten)          (None, 160)               0         \n",
      "_________________________________________________________________\n",
      "dense_9 (Dense)              (None, 256)               41216     \n",
      "_________________________________________________________________\n",
      "dense_10 (Dense)             (None, 1)                 257       \n",
      "=================================================================\n",
      "Total params: 42,593\n",
      "Trainable params: 42,593\n",
      "Non-trainable params: 0\n",
      "_________________________________________________________________\n"
     ]
    }
   ],
   "source": [
    "model.summary()"
   ]
  },
  {
   "cell_type": "code",
   "execution_count": 104,
   "metadata": {},
   "outputs": [
    {
     "name": "stdout",
     "output_type": "stream",
     "text": [
      "Epoch 1/5\n",
      "99/99 [==============================] - 0s 2ms/step - loss: 0.0000e+00 - accuracy: 0.3858 - val_loss: 0.0000e+00 - val_accuracy: 0.2600\n",
      "Epoch 2/5\n",
      "99/99 [==============================] - 0s 987us/step - loss: 0.0000e+00 - accuracy: 0.3858 - val_loss: 0.0000e+00 - val_accuracy: 0.2600\n",
      "Epoch 3/5\n",
      "99/99 [==============================] - 0s 976us/step - loss: 0.0000e+00 - accuracy: 0.3858 - val_loss: 0.0000e+00 - val_accuracy: 0.2600\n",
      "Epoch 4/5\n",
      "99/99 [==============================] - 0s 967us/step - loss: 0.0000e+00 - accuracy: 0.3858 - val_loss: 0.0000e+00 - val_accuracy: 0.2600\n",
      "Epoch 5/5\n",
      "99/99 [==============================] - 0s 957us/step - loss: 0.0000e+00 - accuracy: 0.3858 - val_loss: 0.0000e+00 - val_accuracy: 0.2600\n"
     ]
    }
   ],
   "source": [
    "hist1 = model.fit(X_train1, y_train, batch_size = 2, epochs = 5, validation_data=(X_test1, y_test), verbose=1)"
   ]
  },
  {
   "cell_type": "code",
   "execution_count": 105,
   "metadata": {},
   "outputs": [
    {
     "name": "stdout",
     "output_type": "stream",
     "text": [
      "WARNING:tensorflow:5 out of the last 10 calls to <function Model.make_predict_function.<locals>.predict_function at 0x0000025975A0E948> triggered tf.function retracing. Tracing is expensive and the excessive number of tracings could be due to (1) creating @tf.function repeatedly in a loop, (2) passing tensors with different shapes, (3) passing Python objects instead of tensors. For (1), please define your @tf.function outside of the loop. For (2), @tf.function has experimental_relax_shapes=True option that relaxes argument shapes that can avoid unnecessary retracing. For (3), please refer to https://www.tensorflow.org/guide/function#controlling_retracing and https://www.tensorflow.org/api_docs/python/tf/function for  more details.\n"
     ]
    }
   ],
   "source": [
    "predict = model.predict(X_test1)\n",
    "predict = np.argmax(predict, axis=1)\n",
    "\n",
    "y_test1 = np.argmax(y_test, axis=1)\n",
    "\n",
    "tlmbo_acc = accuracy_score(predict, y_test1)\n",
    "tlmbo_prec = precision_score(predict, y_test1,average='weighted')\n",
    "tlmbo_rec = recall_score(predict, y_test1,average='weighted')\n",
    "tlmbo_f1 = f1_score(predict, y_test1,average='weighted')"
   ]
  },
  {
   "cell_type": "code",
   "execution_count": 106,
   "metadata": {},
   "outputs": [],
   "source": [
    "storeResults('TL-MBO',tlmbo_acc,tlmbo_prec,tlmbo_rec,tlmbo_f1)"
   ]
  },
  {
   "cell_type": "markdown",
   "metadata": {},
   "source": [
    "# Comparison"
   ]
  },
  {
   "cell_type": "code",
   "execution_count": 125,
   "metadata": {},
   "outputs": [],
   "source": [
    "#creating dataframe\n",
    "result = pd.DataFrame({ 'ML Model' : ML_Model,\n",
    "                        'Accuracy' : accuracy,\n",
    "                        'Precision': precision,\n",
    "                        'Recall'   : recall,\n",
    "                        'F1-Score': f1score,\n",
    "                        \n",
    "                      })"
   ]
  },
  {
   "cell_type": "code",
   "execution_count": 126,
   "metadata": {},
   "outputs": [
    {
     "data": {
      "text/html": [
       "<div>\n",
       "<style scoped>\n",
       "    .dataframe tbody tr th:only-of-type {\n",
       "        vertical-align: middle;\n",
       "    }\n",
       "\n",
       "    .dataframe tbody tr th {\n",
       "        vertical-align: top;\n",
       "    }\n",
       "\n",
       "    .dataframe thead th {\n",
       "        text-align: right;\n",
       "    }\n",
       "</style>\n",
       "<table border=\"1\" class=\"dataframe\">\n",
       "  <thead>\n",
       "    <tr style=\"text-align: right;\">\n",
       "      <th></th>\n",
       "      <th>ML Model</th>\n",
       "      <th>Accuracy</th>\n",
       "      <th>Precision</th>\n",
       "      <th>Recall</th>\n",
       "      <th>F1-Score</th>\n",
       "    </tr>\n",
       "  </thead>\n",
       "  <tbody>\n",
       "    <tr>\n",
       "      <th>0</th>\n",
       "      <td>Random Forest</td>\n",
       "      <td>0.873</td>\n",
       "      <td>0.947</td>\n",
       "      <td>0.873</td>\n",
       "      <td>0.896</td>\n",
       "    </tr>\n",
       "    <tr>\n",
       "      <th>1</th>\n",
       "      <td>Support Vector Machine</td>\n",
       "      <td>0.563</td>\n",
       "      <td>1.000</td>\n",
       "      <td>0.563</td>\n",
       "      <td>0.721</td>\n",
       "    </tr>\n",
       "    <tr>\n",
       "      <th>2</th>\n",
       "      <td>AdaBoost Classifier</td>\n",
       "      <td>0.352</td>\n",
       "      <td>0.633</td>\n",
       "      <td>0.352</td>\n",
       "      <td>0.425</td>\n",
       "    </tr>\n",
       "    <tr>\n",
       "      <th>3</th>\n",
       "      <td>MLP-ANN</td>\n",
       "      <td>0.563</td>\n",
       "      <td>1.000</td>\n",
       "      <td>0.563</td>\n",
       "      <td>0.721</td>\n",
       "    </tr>\n",
       "    <tr>\n",
       "      <th>4</th>\n",
       "      <td>XGBoost</td>\n",
       "      <td>0.873</td>\n",
       "      <td>0.947</td>\n",
       "      <td>0.873</td>\n",
       "      <td>0.896</td>\n",
       "    </tr>\n",
       "    <tr>\n",
       "      <th>5</th>\n",
       "      <td>TL-GWO</td>\n",
       "      <td>1.000</td>\n",
       "      <td>1.000</td>\n",
       "      <td>1.000</td>\n",
       "      <td>1.000</td>\n",
       "    </tr>\n",
       "    <tr>\n",
       "      <th>6</th>\n",
       "      <td>TL-PSO</td>\n",
       "      <td>1.000</td>\n",
       "      <td>1.000</td>\n",
       "      <td>1.000</td>\n",
       "      <td>1.000</td>\n",
       "    </tr>\n",
       "    <tr>\n",
       "      <th>7</th>\n",
       "      <td>TL-GA</td>\n",
       "      <td>1.000</td>\n",
       "      <td>1.000</td>\n",
       "      <td>1.000</td>\n",
       "      <td>1.000</td>\n",
       "    </tr>\n",
       "    <tr>\n",
       "      <th>8</th>\n",
       "      <td>TL-MBO</td>\n",
       "      <td>1.000</td>\n",
       "      <td>1.000</td>\n",
       "      <td>1.000</td>\n",
       "      <td>1.000</td>\n",
       "    </tr>\n",
       "    <tr>\n",
       "      <th>9</th>\n",
       "      <td>Voting Classifier</td>\n",
       "      <td>1.000</td>\n",
       "      <td>1.000</td>\n",
       "      <td>1.000</td>\n",
       "      <td>1.000</td>\n",
       "    </tr>\n",
       "    <tr>\n",
       "      <th>10</th>\n",
       "      <td>Stacking Classifier</td>\n",
       "      <td>0.873</td>\n",
       "      <td>0.961</td>\n",
       "      <td>0.873</td>\n",
       "      <td>0.909</td>\n",
       "    </tr>\n",
       "    <tr>\n",
       "      <th>11</th>\n",
       "      <td>CNN+LSTM</td>\n",
       "      <td>0.479</td>\n",
       "      <td>0.716</td>\n",
       "      <td>0.479</td>\n",
       "      <td>0.571</td>\n",
       "    </tr>\n",
       "  </tbody>\n",
       "</table>\n",
       "</div>"
      ],
      "text/plain": [
       "                  ML Model  Accuracy  Precision  Recall  F1-Score\n",
       "0            Random Forest     0.873      0.947   0.873     0.896\n",
       "1   Support Vector Machine     0.563      1.000   0.563     0.721\n",
       "2      AdaBoost Classifier     0.352      0.633   0.352     0.425\n",
       "3                  MLP-ANN     0.563      1.000   0.563     0.721\n",
       "4                  XGBoost     0.873      0.947   0.873     0.896\n",
       "5                   TL-GWO     1.000      1.000   1.000     1.000\n",
       "6                   TL-PSO     1.000      1.000   1.000     1.000\n",
       "7                    TL-GA     1.000      1.000   1.000     1.000\n",
       "8                   TL-MBO     1.000      1.000   1.000     1.000\n",
       "9        Voting Classifier     1.000      1.000   1.000     1.000\n",
       "10     Stacking Classifier     0.873      0.961   0.873     0.909\n",
       "11                CNN+LSTM     0.479      0.716   0.479     0.571"
      ]
     },
     "execution_count": 126,
     "metadata": {},
     "output_type": "execute_result"
    }
   ],
   "source": [
    "result"
   ]
  },
  {
   "cell_type": "markdown",
   "metadata": {},
   "source": [
    "# Modelling"
   ]
  },
  {
   "cell_type": "code",
   "execution_count": 19,
   "metadata": {},
   "outputs": [
    {
     "data": {
      "text/plain": [
       "['model2.sav']"
      ]
     },
     "execution_count": 19,
     "metadata": {},
     "output_type": "execute_result"
    }
   ],
   "source": [
    "import joblib\n",
    "filename = 'model1.sav'\n",
    "filename1 = 'model2.sav'\n",
    "joblib.dump(clf, filename)\n",
    "joblib.dump(eclf1, filename1)"
   ]
  },
  {
   "cell_type": "markdown",
   "metadata": {},
   "source": [
    "# Graph"
   ]
  },
  {
   "cell_type": "code",
   "execution_count": 127,
   "metadata": {},
   "outputs": [],
   "source": [
    "classifier = ML_Model\n",
    "y_pos = np.arange(len(classifier))"
   ]
  },
  {
   "cell_type": "markdown",
   "metadata": {},
   "source": [
    "# Accuracy"
   ]
  },
  {
   "cell_type": "code",
   "execution_count": 128,
   "metadata": {},
   "outputs": [
    {
     "data": {
      "image/png": "[encoded data removed]",
      "text/plain": [
       "<Figure size 432x288 with 1 Axes>"
      ]
     },
     "metadata": {
      "needs_background": "light"
     },
     "output_type": "display_data"
    }
   ],
   "source": [
    "import matplotlib.pyplot as plt2\n",
    "plt2.barh(y_pos, accuracy, align='center', alpha=0.5,color='blue')\n",
    "plt2.yticks(y_pos, classifier)\n",
    "plt2.xlabel('Accuracy Score')\n",
    "plt2.title('Classification Performance')\n",
    "plt2.show()"
   ]
  },
  {
   "cell_type": "markdown",
   "metadata": {},
   "source": [
    "# Precision"
   ]
  },
  {
   "cell_type": "code",
   "execution_count": 129,
   "metadata": {},
   "outputs": [
    {
     "data": {
      "image/png": "[encoded data removed]",
      "text/plain": [
       "<Figure size 432x288 with 1 Axes>"
      ]
     },
     "metadata": {
      "needs_background": "light"
     },
     "output_type": "display_data"
    }
   ],
   "source": [
    "import matplotlib.pyplot as plt2\n",
    "plt2.barh(y_pos, precision, align='center', alpha=0.5,color='red')\n",
    "plt2.yticks(y_pos, classifier)\n",
    "plt2.xlabel('Precision Score')\n",
    "plt2.title('Classification Performance')\n",
    "plt2.show()"
   ]
  },
  {
   "cell_type": "markdown",
   "metadata": {},
   "source": [
    "# Recall"
   ]
  },
  {
   "cell_type": "code",
   "execution_count": 130,
   "metadata": {},
   "outputs": [
    {
     "data": {
      "image/png": "[encoded data removed]",
      "text/plain": [
       "<Figure size 432x288 with 1 Axes>"
      ]
     },
     "metadata": {
      "needs_background": "light"
     },
     "output_type": "display_data"
    }
   ],
   "source": [
    "import matplotlib.pyplot as plt2\n",
    "plt2.barh(y_pos, recall, align='center', alpha=0.5,color='yellow')\n",
    "plt2.yticks(y_pos, classifier)\n",
    "plt2.xlabel('Recall Score')\n",
    "plt2.title('Classification Performance')\n",
    "plt2.show()"
   ]
  },
  {
   "cell_type": "markdown",
   "metadata": {},
   "source": [
    "# F1 Score"
   ]
  },
  {
   "cell_type": "code",
   "execution_count": 131,
   "metadata": {},
   "outputs": [
    {
     "data": {
      "image/png": "[encoded data removed]",
      "text/plain": [
       "<Figure size 432x288 with 1 Axes>"
      ]
     },
     "metadata": {
      "needs_background": "light"
     },
     "output_type": "display_data"
    }
   ],
   "source": [
    "import matplotlib.pyplot as plt2\n",
    "plt2.barh(y_pos, f1score, align='center', alpha=0.5,color='navy')\n",
    "plt2.yticks(y_pos, classifier)\n",
    "plt2.xlabel('F1 Score')\n",
    "plt2.title('Classification Performance')\n",
    "plt2.show()"
   ]
  },
  {
   "cell_type": "code",
   "execution_count": null,
   "metadata": {},
   "outputs": [],
   "source": []
  }
 ],
 "metadata": {
  "kernelspec": {
   "display_name": "Python 3",
   "language": "python",
   "name": "python3"
  },
  "language_info": {
   "codemirror_mode": {
    "name": "ipython",
    "version": 3
   },
   "file_extension": ".py",
   "mimetype": "text/x-python",
   "name": "python",
   "nbconvert_exporter": "python",
   "pygments_lexer": "ipython3",
   "version": "3.7.4"
  }
 },
 "nbformat": 4,
 "nbformat_minor": 2
}
